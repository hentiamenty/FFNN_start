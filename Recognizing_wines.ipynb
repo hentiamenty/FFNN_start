{
  "nbformat": 4,
  "nbformat_minor": 0,
  "metadata": {
    "colab": {
      "name": "Recognizing wines.ipynb",
      "provenance": [],
      "collapsed_sections": [],
      "authorship_tag": "ABX9TyMADj6O/3OXz2x7d/AVaUWT",
      "include_colab_link": true
    },
    "kernelspec": {
      "name": "python3",
      "display_name": "Python 3"
    },
    "language_info": {
      "name": "python"
    }
  },
  "cells": [
    {
      "cell_type": "markdown",
      "metadata": {
        "id": "view-in-github",
        "colab_type": "text"
      },
      "source": [
        "<a href=\"https://colab.research.google.com/github/hentiamenty/FFNN_start/blob/main/Recognizing_wines.ipynb\" target=\"_parent\"><img src=\"https://colab.research.google.com/assets/colab-badge.svg\" alt=\"Open In Colab\"/></a>"
      ]
    },
    {
      "cell_type": "code",
      "execution_count": 1,
      "metadata": {
        "id": "yAbE1Vf4T0NQ"
      },
      "outputs": [],
      "source": [
        "# Frameworks loading\n",
        "from tensorflow.keras.models import Sequential      \n",
        "from tensorflow.keras.layers import Dense, Activation, Dropout, BatchNormalization \n",
        "from tensorflow.keras import utils    \n",
        "from tensorflow.keras.optimizers import Adam  \n",
        "import numpy as np    \n",
        "import matplotlib.pyplot as plt    \n",
        "from sklearn.model_selection import train_test_split \n",
        "from sklearn.datasets import load_wine                     \n",
        "%matplotlib inline"
      ]
    },
    {
      "cell_type": "code",
      "source": [
        "# Dataset loading\n",
        "x_data = load_wine()['data']\n",
        "y_data = load_wine()['target']        \n",
        "\n",
        "print('Dimension x_data -', x_data.shape)\n",
        "print('Dimention y_data -', y_data.shape)\n",
        "print()\n",
        "\n",
        "print('First wine data:',x_data[0])\n",
        "print('Wine class:',y_data[0])"
      ],
      "metadata": {
        "colab": {
          "base_uri": "https://localhost:8080/"
        },
        "id": "6WqsXi3vUY0J",
        "outputId": "9c1e133d-7e9f-487d-919b-45e75342db92"
      },
      "execution_count": 2,
      "outputs": [
        {
          "output_type": "stream",
          "name": "stdout",
          "text": [
            "Dimension x_data - (178, 13)\n",
            "Dimention y_data - (178,)\n",
            "\n",
            "First wine data: [1.423e+01 1.710e+00 2.430e+00 1.560e+01 1.270e+02 2.800e+00 3.060e+00\n",
            " 2.800e-01 2.290e+00 5.640e+00 1.040e+00 3.920e+00 1.065e+03]\n",
            "Wine class: 0\n"
          ]
        }
      ]
    },
    {
      "cell_type": "code",
      "source": [
        "# One hot encoding transformation\n",
        "y_data = utils.to_categorical(y_data, 3)\n",
        "# Dividing the set into general and test parts\n",
        "x_all, x_test, y_all, y_test = train_test_split(x_data, y_data, test_size=0.1, shuffle=True, random_state = 6)\n",
        "# Dividing the set into train and validation parts \n",
        "x_train, x_val, y_train, y_val = train_test_split(x_all, y_all, test_size=0.1, shuffle=True, random_state = 6)\n",
        "\n",
        "print(x_train.shape)\n",
        "print(y_train.shape)\n",
        "print()\n",
        "print(x_val.shape)\n",
        "print(y_val.shape)"
      ],
      "metadata": {
        "colab": {
          "base_uri": "https://localhost:8080/"
        },
        "id": "56EWy_TTVwEK",
        "outputId": "1c60eb34-3299-4c87-834e-86b92bcad0c6"
      },
      "execution_count": 3,
      "outputs": [
        {
          "output_type": "stream",
          "name": "stdout",
          "text": [
            "(144, 13)\n",
            "(144, 3)\n",
            "\n",
            "(16, 13)\n",
            "(16, 3)\n"
          ]
        }
      ]
    },
    {
      "cell_type": "code",
      "source": [
        "# Creating model\n",
        "model = Sequential()\n",
        "model.add(Dense(2600, input_dim=13, activation='relu'))\n",
        "\n",
        "model.add(Dense (650,activation='relu'))\n",
        "\n",
        "model.add(Dense(3, activation='softmax'))\n",
        "model.compile(loss='categorical_crossentropy', \n",
        "              optimizer=Adam(learning_rate=0.002), \n",
        "              metrics=['accuracy'])\n",
        "print(model.summary())"
      ],
      "metadata": {
        "colab": {
          "base_uri": "https://localhost:8080/"
        },
        "id": "Mox0bs4ZW-CK",
        "outputId": "f05a86a4-391d-4e82-efe7-873d8b411e20"
      },
      "execution_count": 10,
      "outputs": [
        {
          "output_type": "stream",
          "name": "stdout",
          "text": [
            "Model: \"sequential_2\"\n",
            "_________________________________________________________________\n",
            " Layer (type)                Output Shape              Param #   \n",
            "=================================================================\n",
            " dense_6 (Dense)             (None, 2600)              36400     \n",
            "                                                                 \n",
            " dense_7 (Dense)             (None, 650)               1690650   \n",
            "                                                                 \n",
            " dense_8 (Dense)             (None, 3)                 1953      \n",
            "                                                                 \n",
            "=================================================================\n",
            "Total params: 1,729,003\n",
            "Trainable params: 1,729,003\n",
            "Non-trainable params: 0\n",
            "_________________________________________________________________\n",
            "None\n"
          ]
        }
      ]
    },
    {
      "cell_type": "code",
      "source": [
        "# model training\n",
        "history = model.fit(x_train, y_train, batch_size=32, epochs=100, validation_data = (x_val, y_val), verbose=1)\n",
        "scores = model.evaluate(x_val, y_val, verbose=1)\n",
        "print('Percentage of correct answers on the validation data:', round(scores[1],2) * 100, '%')"
      ],
      "metadata": {
        "colab": {
          "base_uri": "https://localhost:8080/"
        },
        "id": "dOcrL7sFXJn0",
        "outputId": "d9e50e6d-5daa-4571-e2e2-02d8178c5718"
      },
      "execution_count": 11,
      "outputs": [
        {
          "output_type": "stream",
          "name": "stdout",
          "text": [
            "Epoch 1/100\n",
            "5/5 [==============================] - 1s 62ms/step - loss: 181.9933 - accuracy: 0.3681 - val_loss: 24.5421 - val_accuracy: 0.2500\n",
            "Epoch 2/100\n",
            "5/5 [==============================] - 0s 25ms/step - loss: 20.2874 - accuracy: 0.3333 - val_loss: 9.2948 - val_accuracy: 0.3750\n",
            "Epoch 3/100\n",
            "5/5 [==============================] - 0s 24ms/step - loss: 13.5412 - accuracy: 0.3056 - val_loss: 10.8634 - val_accuracy: 0.3125\n",
            "Epoch 4/100\n",
            "5/5 [==============================] - 0s 25ms/step - loss: 12.4714 - accuracy: 0.4653 - val_loss: 14.7758 - val_accuracy: 0.3750\n",
            "Epoch 5/100\n",
            "5/5 [==============================] - 0s 27ms/step - loss: 7.1909 - accuracy: 0.4236 - val_loss: 7.6734 - val_accuracy: 0.3750\n",
            "Epoch 6/100\n",
            "5/5 [==============================] - 0s 25ms/step - loss: 5.4158 - accuracy: 0.4444 - val_loss: 7.9964 - val_accuracy: 0.5625\n",
            "Epoch 7/100\n",
            "5/5 [==============================] - 0s 25ms/step - loss: 4.8013 - accuracy: 0.6250 - val_loss: 1.4293 - val_accuracy: 0.7500\n",
            "Epoch 8/100\n",
            "5/5 [==============================] - 0s 25ms/step - loss: 3.1392 - accuracy: 0.5764 - val_loss: 2.8707 - val_accuracy: 0.5000\n",
            "Epoch 9/100\n",
            "5/5 [==============================] - 0s 24ms/step - loss: 2.6074 - accuracy: 0.6181 - val_loss: 0.9158 - val_accuracy: 0.6875\n",
            "Epoch 10/100\n",
            "5/5 [==============================] - 0s 28ms/step - loss: 1.2828 - accuracy: 0.6250 - val_loss: 0.9755 - val_accuracy: 0.6250\n",
            "Epoch 11/100\n",
            "5/5 [==============================] - 0s 24ms/step - loss: 1.0346 - accuracy: 0.6597 - val_loss: 0.4942 - val_accuracy: 0.6875\n",
            "Epoch 12/100\n",
            "5/5 [==============================] - 0s 25ms/step - loss: 0.8738 - accuracy: 0.6736 - val_loss: 0.5617 - val_accuracy: 0.7500\n",
            "Epoch 13/100\n",
            "5/5 [==============================] - 0s 27ms/step - loss: 0.8899 - accuracy: 0.7431 - val_loss: 0.9017 - val_accuracy: 0.7500\n",
            "Epoch 14/100\n",
            "5/5 [==============================] - 0s 26ms/step - loss: 1.2411 - accuracy: 0.6389 - val_loss: 0.9561 - val_accuracy: 0.5625\n",
            "Epoch 15/100\n",
            "5/5 [==============================] - 0s 25ms/step - loss: 1.7863 - accuracy: 0.5972 - val_loss: 1.6117 - val_accuracy: 0.5000\n",
            "Epoch 16/100\n",
            "5/5 [==============================] - 0s 28ms/step - loss: 1.3741 - accuracy: 0.6319 - val_loss: 2.5785 - val_accuracy: 0.5625\n",
            "Epoch 17/100\n",
            "5/5 [==============================] - 0s 24ms/step - loss: 1.5921 - accuracy: 0.6875 - val_loss: 1.0348 - val_accuracy: 0.6875\n",
            "Epoch 18/100\n",
            "5/5 [==============================] - 0s 25ms/step - loss: 1.0015 - accuracy: 0.7292 - val_loss: 1.0764 - val_accuracy: 0.7500\n",
            "Epoch 19/100\n",
            "5/5 [==============================] - 0s 25ms/step - loss: 0.9830 - accuracy: 0.7431 - val_loss: 0.5278 - val_accuracy: 0.7500\n",
            "Epoch 20/100\n",
            "5/5 [==============================] - 0s 26ms/step - loss: 0.7617 - accuracy: 0.7986 - val_loss: 0.6843 - val_accuracy: 0.6875\n",
            "Epoch 21/100\n",
            "5/5 [==============================] - 0s 25ms/step - loss: 0.9617 - accuracy: 0.7014 - val_loss: 0.4339 - val_accuracy: 0.8750\n",
            "Epoch 22/100\n",
            "5/5 [==============================] - 0s 25ms/step - loss: 0.8636 - accuracy: 0.7153 - val_loss: 1.0998 - val_accuracy: 0.6250\n",
            "Epoch 23/100\n",
            "5/5 [==============================] - 0s 27ms/step - loss: 1.0191 - accuracy: 0.6458 - val_loss: 0.3092 - val_accuracy: 0.8125\n",
            "Epoch 24/100\n",
            "5/5 [==============================] - 0s 24ms/step - loss: 0.7786 - accuracy: 0.7014 - val_loss: 0.2572 - val_accuracy: 0.8750\n",
            "Epoch 25/100\n",
            "5/5 [==============================] - 0s 25ms/step - loss: 0.7071 - accuracy: 0.8264 - val_loss: 0.2359 - val_accuracy: 1.0000\n",
            "Epoch 26/100\n",
            "5/5 [==============================] - 0s 25ms/step - loss: 0.5236 - accuracy: 0.7986 - val_loss: 0.2409 - val_accuracy: 0.9375\n",
            "Epoch 27/100\n",
            "5/5 [==============================] - 0s 25ms/step - loss: 0.5551 - accuracy: 0.8333 - val_loss: 0.3657 - val_accuracy: 0.8750\n",
            "Epoch 28/100\n",
            "5/5 [==============================] - 0s 27ms/step - loss: 0.6016 - accuracy: 0.7222 - val_loss: 0.3204 - val_accuracy: 0.8125\n",
            "Epoch 29/100\n",
            "5/5 [==============================] - 0s 25ms/step - loss: 0.5172 - accuracy: 0.9028 - val_loss: 0.6812 - val_accuracy: 0.7500\n",
            "Epoch 30/100\n",
            "5/5 [==============================] - 0s 27ms/step - loss: 0.6315 - accuracy: 0.7917 - val_loss: 0.3251 - val_accuracy: 0.8750\n",
            "Epoch 31/100\n",
            "5/5 [==============================] - 0s 25ms/step - loss: 0.4731 - accuracy: 0.7986 - val_loss: 0.6245 - val_accuracy: 0.7500\n",
            "Epoch 32/100\n",
            "5/5 [==============================] - 0s 26ms/step - loss: 0.5470 - accuracy: 0.8681 - val_loss: 0.7571 - val_accuracy: 0.8125\n",
            "Epoch 33/100\n",
            "5/5 [==============================] - 0s 25ms/step - loss: 0.9924 - accuracy: 0.6806 - val_loss: 0.2760 - val_accuracy: 0.8750\n",
            "Epoch 34/100\n",
            "5/5 [==============================] - 0s 24ms/step - loss: 0.9497 - accuracy: 0.7778 - val_loss: 0.2317 - val_accuracy: 0.9375\n",
            "Epoch 35/100\n",
            "5/5 [==============================] - 0s 25ms/step - loss: 0.7847 - accuracy: 0.7639 - val_loss: 0.1520 - val_accuracy: 0.9375\n",
            "Epoch 36/100\n",
            "5/5 [==============================] - 0s 29ms/step - loss: 0.4525 - accuracy: 0.8194 - val_loss: 0.2358 - val_accuracy: 0.8750\n",
            "Epoch 37/100\n",
            "5/5 [==============================] - 0s 24ms/step - loss: 0.6018 - accuracy: 0.7847 - val_loss: 0.9177 - val_accuracy: 0.6250\n",
            "Epoch 38/100\n",
            "5/5 [==============================] - 0s 25ms/step - loss: 0.5991 - accuracy: 0.7778 - val_loss: 0.1383 - val_accuracy: 1.0000\n",
            "Epoch 39/100\n",
            "5/5 [==============================] - 0s 24ms/step - loss: 0.4007 - accuracy: 0.8750 - val_loss: 0.2066 - val_accuracy: 0.8750\n",
            "Epoch 40/100\n",
            "5/5 [==============================] - 0s 25ms/step - loss: 0.3204 - accuracy: 0.8889 - val_loss: 0.2402 - val_accuracy: 0.8125\n",
            "Epoch 41/100\n",
            "5/5 [==============================] - 0s 24ms/step - loss: 0.3860 - accuracy: 0.8819 - val_loss: 0.2785 - val_accuracy: 0.8750\n",
            "Epoch 42/100\n",
            "5/5 [==============================] - 0s 24ms/step - loss: 0.6840 - accuracy: 0.7847 - val_loss: 0.2002 - val_accuracy: 0.9375\n",
            "Epoch 43/100\n",
            "5/5 [==============================] - 0s 24ms/step - loss: 0.3665 - accuracy: 0.8681 - val_loss: 0.1869 - val_accuracy: 0.9375\n",
            "Epoch 44/100\n",
            "5/5 [==============================] - 0s 29ms/step - loss: 0.2847 - accuracy: 0.8889 - val_loss: 0.4422 - val_accuracy: 0.7500\n",
            "Epoch 45/100\n",
            "5/5 [==============================] - 0s 23ms/step - loss: 0.6557 - accuracy: 0.7708 - val_loss: 0.3679 - val_accuracy: 0.8125\n",
            "Epoch 46/100\n",
            "5/5 [==============================] - 0s 24ms/step - loss: 0.7634 - accuracy: 0.7500 - val_loss: 0.1738 - val_accuracy: 0.9375\n",
            "Epoch 47/100\n",
            "5/5 [==============================] - 0s 25ms/step - loss: 0.5622 - accuracy: 0.8264 - val_loss: 0.9349 - val_accuracy: 0.7500\n",
            "Epoch 48/100\n",
            "5/5 [==============================] - 0s 24ms/step - loss: 0.6517 - accuracy: 0.7986 - val_loss: 0.1305 - val_accuracy: 1.0000\n",
            "Epoch 49/100\n",
            "5/5 [==============================] - 0s 25ms/step - loss: 0.4795 - accuracy: 0.8611 - val_loss: 0.2407 - val_accuracy: 0.8750\n",
            "Epoch 50/100\n",
            "5/5 [==============================] - 0s 24ms/step - loss: 0.2190 - accuracy: 0.9306 - val_loss: 0.2128 - val_accuracy: 0.9375\n",
            "Epoch 51/100\n",
            "5/5 [==============================] - 0s 26ms/step - loss: 0.3528 - accuracy: 0.9167 - val_loss: 0.1032 - val_accuracy: 1.0000\n",
            "Epoch 52/100\n",
            "5/5 [==============================] - 0s 27ms/step - loss: 0.2642 - accuracy: 0.8819 - val_loss: 0.1746 - val_accuracy: 0.9375\n",
            "Epoch 53/100\n",
            "5/5 [==============================] - 0s 24ms/step - loss: 0.2487 - accuracy: 0.9236 - val_loss: 0.1377 - val_accuracy: 1.0000\n",
            "Epoch 54/100\n",
            "5/5 [==============================] - 0s 27ms/step - loss: 0.2512 - accuracy: 0.8958 - val_loss: 0.1163 - val_accuracy: 0.9375\n",
            "Epoch 55/100\n",
            "5/5 [==============================] - 0s 24ms/step - loss: 0.2081 - accuracy: 0.9306 - val_loss: 0.1793 - val_accuracy: 0.8750\n",
            "Epoch 56/100\n",
            "5/5 [==============================] - 0s 27ms/step - loss: 0.1955 - accuracy: 0.9167 - val_loss: 0.0962 - val_accuracy: 1.0000\n",
            "Epoch 57/100\n",
            "5/5 [==============================] - 0s 24ms/step - loss: 0.1604 - accuracy: 0.9444 - val_loss: 0.1840 - val_accuracy: 0.8750\n",
            "Epoch 58/100\n",
            "5/5 [==============================] - 0s 24ms/step - loss: 0.1687 - accuracy: 0.9514 - val_loss: 0.1319 - val_accuracy: 0.9375\n",
            "Epoch 59/100\n",
            "5/5 [==============================] - 0s 25ms/step - loss: 0.2519 - accuracy: 0.9167 - val_loss: 0.1571 - val_accuracy: 0.8750\n",
            "Epoch 60/100\n",
            "5/5 [==============================] - 0s 28ms/step - loss: 0.1957 - accuracy: 0.9236 - val_loss: 0.3147 - val_accuracy: 0.8750\n",
            "Epoch 61/100\n",
            "5/5 [==============================] - 0s 25ms/step - loss: 0.2269 - accuracy: 0.9028 - val_loss: 0.1729 - val_accuracy: 0.9375\n",
            "Epoch 62/100\n",
            "5/5 [==============================] - 0s 26ms/step - loss: 0.3828 - accuracy: 0.8403 - val_loss: 0.1145 - val_accuracy: 0.9375\n",
            "Epoch 63/100\n",
            "5/5 [==============================] - 0s 26ms/step - loss: 0.3348 - accuracy: 0.8472 - val_loss: 0.4264 - val_accuracy: 0.8125\n",
            "Epoch 64/100\n",
            "5/5 [==============================] - 0s 26ms/step - loss: 0.2391 - accuracy: 0.9167 - val_loss: 0.0920 - val_accuracy: 1.0000\n",
            "Epoch 65/100\n",
            "5/5 [==============================] - 0s 25ms/step - loss: 0.1986 - accuracy: 0.9167 - val_loss: 0.1275 - val_accuracy: 0.9375\n",
            "Epoch 66/100\n",
            "5/5 [==============================] - 0s 26ms/step - loss: 0.2047 - accuracy: 0.9306 - val_loss: 0.2186 - val_accuracy: 0.8750\n",
            "Epoch 67/100\n",
            "5/5 [==============================] - 0s 28ms/step - loss: 0.1869 - accuracy: 0.9444 - val_loss: 0.1034 - val_accuracy: 0.9375\n",
            "Epoch 68/100\n",
            "5/5 [==============================] - 0s 26ms/step - loss: 0.1741 - accuracy: 0.9444 - val_loss: 0.0896 - val_accuracy: 1.0000\n",
            "Epoch 69/100\n",
            "5/5 [==============================] - 0s 27ms/step - loss: 0.1574 - accuracy: 0.9306 - val_loss: 0.1793 - val_accuracy: 0.8750\n",
            "Epoch 70/100\n",
            "5/5 [==============================] - 0s 25ms/step - loss: 0.1729 - accuracy: 0.9306 - val_loss: 0.0826 - val_accuracy: 1.0000\n",
            "Epoch 71/100\n",
            "5/5 [==============================] - 0s 26ms/step - loss: 0.2032 - accuracy: 0.9167 - val_loss: 0.1010 - val_accuracy: 0.9375\n",
            "Epoch 72/100\n",
            "5/5 [==============================] - 0s 25ms/step - loss: 0.2396 - accuracy: 0.8958 - val_loss: 0.2775 - val_accuracy: 0.8750\n",
            "Epoch 73/100\n",
            "5/5 [==============================] - 0s 25ms/step - loss: 0.2255 - accuracy: 0.9236 - val_loss: 0.1620 - val_accuracy: 0.8750\n",
            "Epoch 74/100\n",
            "5/5 [==============================] - 0s 25ms/step - loss: 0.1829 - accuracy: 0.9306 - val_loss: 0.0857 - val_accuracy: 1.0000\n",
            "Epoch 75/100\n",
            "5/5 [==============================] - 0s 25ms/step - loss: 0.1621 - accuracy: 0.9375 - val_loss: 0.1032 - val_accuracy: 0.9375\n",
            "Epoch 76/100\n",
            "5/5 [==============================] - 0s 25ms/step - loss: 0.1430 - accuracy: 0.9375 - val_loss: 0.1364 - val_accuracy: 0.9375\n",
            "Epoch 77/100\n",
            "5/5 [==============================] - 0s 25ms/step - loss: 0.1337 - accuracy: 0.9583 - val_loss: 0.0946 - val_accuracy: 0.9375\n",
            "Epoch 78/100\n",
            "5/5 [==============================] - 0s 27ms/step - loss: 0.1704 - accuracy: 0.9236 - val_loss: 0.0844 - val_accuracy: 1.0000\n",
            "Epoch 79/100\n",
            "5/5 [==============================] - 0s 27ms/step - loss: 0.1623 - accuracy: 0.9375 - val_loss: 0.0973 - val_accuracy: 0.9375\n",
            "Epoch 80/100\n",
            "5/5 [==============================] - 0s 27ms/step - loss: 0.1641 - accuracy: 0.9375 - val_loss: 0.2389 - val_accuracy: 0.8750\n",
            "Epoch 81/100\n",
            "5/5 [==============================] - 0s 25ms/step - loss: 0.1438 - accuracy: 0.9514 - val_loss: 0.1176 - val_accuracy: 0.9375\n",
            "Epoch 82/100\n",
            "5/5 [==============================] - 0s 25ms/step - loss: 0.2442 - accuracy: 0.8958 - val_loss: 0.4812 - val_accuracy: 0.8125\n",
            "Epoch 83/100\n",
            "5/5 [==============================] - 0s 30ms/step - loss: 0.2599 - accuracy: 0.8889 - val_loss: 0.3186 - val_accuracy: 0.8125\n",
            "Epoch 84/100\n",
            "5/5 [==============================] - 0s 26ms/step - loss: 1.7976 - accuracy: 0.6528 - val_loss: 0.8472 - val_accuracy: 0.7500\n",
            "Epoch 85/100\n",
            "5/5 [==============================] - 0s 26ms/step - loss: 0.9425 - accuracy: 0.7222 - val_loss: 0.4024 - val_accuracy: 0.8750\n",
            "Epoch 86/100\n",
            "5/5 [==============================] - 0s 27ms/step - loss: 0.5229 - accuracy: 0.8194 - val_loss: 0.2579 - val_accuracy: 0.8750\n",
            "Epoch 87/100\n",
            "5/5 [==============================] - 0s 25ms/step - loss: 0.2388 - accuracy: 0.9306 - val_loss: 0.2086 - val_accuracy: 0.8750\n",
            "Epoch 88/100\n",
            "5/5 [==============================] - 0s 24ms/step - loss: 0.3315 - accuracy: 0.8750 - val_loss: 0.1406 - val_accuracy: 0.9375\n",
            "Epoch 89/100\n",
            "5/5 [==============================] - 0s 26ms/step - loss: 0.1678 - accuracy: 0.9306 - val_loss: 0.1212 - val_accuracy: 0.9375\n",
            "Epoch 90/100\n",
            "5/5 [==============================] - 0s 24ms/step - loss: 0.1444 - accuracy: 0.9514 - val_loss: 0.1099 - val_accuracy: 0.9375\n",
            "Epoch 91/100\n",
            "5/5 [==============================] - 0s 27ms/step - loss: 0.1461 - accuracy: 0.9444 - val_loss: 0.1740 - val_accuracy: 0.9375\n",
            "Epoch 92/100\n",
            "5/5 [==============================] - 0s 26ms/step - loss: 0.1554 - accuracy: 0.9444 - val_loss: 0.1726 - val_accuracy: 0.8750\n",
            "Epoch 93/100\n",
            "5/5 [==============================] - 0s 24ms/step - loss: 0.1358 - accuracy: 0.9653 - val_loss: 0.1085 - val_accuracy: 0.9375\n",
            "Epoch 94/100\n",
            "5/5 [==============================] - 0s 33ms/step - loss: 0.1460 - accuracy: 0.9444 - val_loss: 0.0839 - val_accuracy: 0.9375\n",
            "Epoch 95/100\n",
            "5/5 [==============================] - 0s 26ms/step - loss: 0.1636 - accuracy: 0.9514 - val_loss: 0.1255 - val_accuracy: 0.9375\n",
            "Epoch 96/100\n",
            "5/5 [==============================] - 0s 26ms/step - loss: 0.1487 - accuracy: 0.9306 - val_loss: 0.3928 - val_accuracy: 0.8750\n",
            "Epoch 97/100\n",
            "5/5 [==============================] - 0s 25ms/step - loss: 0.2307 - accuracy: 0.9306 - val_loss: 0.1422 - val_accuracy: 0.9375\n",
            "Epoch 98/100\n",
            "5/5 [==============================] - 0s 28ms/step - loss: 0.4339 - accuracy: 0.8750 - val_loss: 0.0777 - val_accuracy: 1.0000\n",
            "Epoch 99/100\n",
            "5/5 [==============================] - 0s 26ms/step - loss: 0.2711 - accuracy: 0.8958 - val_loss: 0.4883 - val_accuracy: 0.8750\n",
            "Epoch 100/100\n",
            "5/5 [==============================] - 0s 25ms/step - loss: 0.2375 - accuracy: 0.8958 - val_loss: 0.0543 - val_accuracy: 1.0000\n",
            "1/1 [==============================] - 0s 22ms/step - loss: 0.0543 - accuracy: 1.0000\n",
            "Percentage of correct answers on the validation data: 100.0 %\n"
          ]
        }
      ]
    },
    {
      "cell_type": "code",
      "source": [
        "# Traning visualization\n",
        "plt.plot(history.history['accuracy'], \n",
        "         label='Percentage of correct answers on the training set')\n",
        "plt.plot(history.history['val_accuracy'], \n",
        "         label='Percentage of correct answers on the validation set')\n",
        "plt.xlabel('Epoch')\n",
        "plt.ylabel('Percentage of correct answers')\n",
        "plt.legend()\n",
        "plt.show()\n",
        "plt.plot(history.history['loss'], \n",
        "         label='Loss on the training set')\n",
        "plt.plot(history.history['val_loss'], \n",
        "         label='Loss on the validation set')\n",
        "plt.xlabel('Epoch')\n",
        "plt.ylabel('Loss')\n",
        "plt.legend()\n",
        "plt.show()"
      ],
      "metadata": {
        "colab": {
          "base_uri": "https://localhost:8080/",
          "height": 541
        },
        "id": "qbQme4_MX72C",
        "outputId": "d181ba76-cb6e-446b-e50f-589efe607984"
      },
      "execution_count": 12,
      "outputs": [
        {
          "output_type": "display_data",
          "data": {
            "text/plain": [
              "<Figure size 432x288 with 1 Axes>"
            ],
            "image/png": "[encoded data removed]"
          },
          "metadata": {
            "needs_background": "light"
          }
        },
        {
          "output_type": "display_data",
          "data": {
            "text/plain": [
              "<Figure size 432x288 with 1 Axes>"
            ],
            "image/png": "[encoded data removed]"
          },
          "metadata": {
            "needs_background": "light"
          }
        }
      ]
    },
    {
      "cell_type": "code",
      "source": [
        "# Save model\n",
        "model.save_weights('model.h5')\n",
        "model.load_weights('model.h5')"
      ],
      "metadata": {
        "id": "8UGdrXZlirY9"
      },
      "execution_count": 13,
      "outputs": []
    },
    {
      "cell_type": "code",
      "source": [
        "# Testing\n",
        "y_pred = model.predict(x_test)\n",
        "# loss\n",
        "from sklearn import metrics\n",
        "print('Root Mean Squared Error (RMSE):', np.sqrt(metrics.mean_squared_error(y_test, y_pred)))\n",
        "# Prediction\n",
        "predictions = np.argmax(y_pred, axis=1)\n",
        "y_test_nums = np.argmax(y_test, axis=1)\n",
        "for i in range(len(x_test)):\n",
        "    print(f'predicted - {predictions[i]}, correct answers {y_test_nums[i]}, {predictions[i] == y_test_nums[i]}')\n",
        "print(f'\\n Percentage of correct answers - {(predictions == y_test_nums).mean()*100} %')"
      ],
      "metadata": {
        "colab": {
          "base_uri": "https://localhost:8080/"
        },
        "id": "Ax5luUp6jiqo",
        "outputId": "88a0602d-eb68-4606-b856-b5464d222f56"
      },
      "execution_count": 18,
      "outputs": [
        {
          "output_type": "stream",
          "name": "stdout",
          "text": [
            "Root Mean Squared Error (RMSE): 0.19093962\n",
            "predicted - 0, correct answers 0, True\n",
            "predicted - 1, correct answers 1, True\n",
            "predicted - 1, correct answers 1, True\n",
            "predicted - 1, correct answers 1, True\n",
            "predicted - 0, correct answers 0, True\n",
            "predicted - 0, correct answers 0, True\n",
            "predicted - 1, correct answers 1, True\n",
            "predicted - 1, correct answers 1, True\n",
            "predicted - 1, correct answers 1, True\n",
            "predicted - 0, correct answers 0, True\n",
            "predicted - 0, correct answers 0, True\n",
            "predicted - 1, correct answers 1, True\n",
            "predicted - 2, correct answers 2, True\n",
            "predicted - 1, correct answers 0, False\n",
            "predicted - 1, correct answers 1, True\n",
            "predicted - 0, correct answers 0, True\n",
            "predicted - 0, correct answers 0, True\n",
            "predicted - 0, correct answers 0, True\n",
            "\n",
            " Percentage of correct answers - 94.44444444444444 %\n"
          ]
        }
      ]
    },
    {
      "cell_type": "code",
      "source": [
        "\n"
      ],
      "metadata": {
        "colab": {
          "base_uri": "https://localhost:8080/"
        },
        "id": "NsrEBcx4tDXz",
        "outputId": "343df247-53d9-4072-e12b-e8ed0fae4a33"
      },
      "execution_count": 17,
      "outputs": [
        {
          "output_type": "stream",
          "name": "stdout",
          "text": [
            "Root Mean Squared Error (RMSE): 0.19093962\n",
            "predicted - 0, correct answers 0, True\n",
            "predicted - 1, correct answers 1, True\n",
            "predicted - 1, correct answers 1, True\n",
            "predicted - 1, correct answers 1, True\n",
            "predicted - 0, correct answers 0, True\n",
            "predicted - 0, correct answers 0, True\n",
            "predicted - 1, correct answers 1, True\n",
            "predicted - 1, correct answers 1, True\n",
            "predicted - 1, correct answers 1, True\n",
            "predicted - 0, correct answers 0, True\n",
            "predicted - 0, correct answers 0, True\n",
            "predicted - 1, correct answers 1, True\n",
            "predicted - 2, correct answers 2, True\n",
            "predicted - 1, correct answers 0, False\n",
            "predicted - 1, correct answers 1, True\n",
            "predicted - 0, correct answers 0, True\n",
            "predicted - 0, correct answers 0, True\n",
            "predicted - 0, correct answers 0, True\n",
            "\n",
            " Percentage of correct answers - 94.44444444444444 %\n"
          ]
        }
      ]
    },
    {
      "cell_type": "markdown",
      "source": [
        "# Новый раздел"
      ],
      "metadata": {
        "id": "OzdTX3_ojaWF"
      }
    },
    {
      "cell_type": "markdown",
      "source": [
        "# Новый раздел"
      ],
      "metadata": {
        "id": "R6wIQXltja-v"
      }
    }
  ]
}